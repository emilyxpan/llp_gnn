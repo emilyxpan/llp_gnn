{
 "cells": [
  {
   "cell_type": "code",
   "execution_count": 1,
   "id": "c2008da5-2278-4b81-9fdc-0c5e7a41ed2c",
   "metadata": {},
   "outputs": [],
   "source": [
    "import uproot\n",
    "import awkward as ak\n",
    "import numpy as np\n",
    "import matplotlib.pyplot as plt\n",
    "import mplhep as hep\n",
    "import hist"
   ]
  },
  {
   "cell_type": "code",
   "execution_count": 2,
   "id": "c23e327c-5c5a-4c97-9f58-5658b6fffd5b",
   "metadata": {},
   "outputs": [],
   "source": [
    "fileset = {} #dictionary of lists of directories\n",
    "\n",
    "sig_dir = '/ceph/cms/store/user/aaportel/B-Parking/rechits_v2/BToKPhi_MuonLLPDecayGenFilter_PhiToPi0Pi0_mPhi0p3_ctau300/'\n",
    "fileset['sample'] = [sig_dir + f'BToKPhi_MuonLLPDecayGenFilter_PhiToPi0Pi0_mPhi0p3_ctau300_{str(i).zfill(7)}.root' for i in range(328)]\n",
    "\n",
    "f = uproot.open(fileset['sample'][0]) #first path in dictionary\n",
    "raw_data = f['MuonSystem'].arrays(library = 'ak')"
   ]
  },
  {
   "cell_type": "code",
   "execution_count": 4,
   "id": "4341ff13-0627-417b-90c5-74312bb3e658",
   "metadata": {},
   "outputs": [
    {
     "name": "stdout",
     "output_type": "stream",
     "text": [
      "/ceph/cms/store/user/aaportel/B-Parking/rechits_v2/BToKPhi_MuonLLPDecayGenFilter_PhiToPi0Pi0_mPhi0p3_ctau300/BToKPhi_MuonLLPDecayGenFilter_PhiToPi0Pi0_mPhi0p3_ctau300_0000000.root\n"
     ]
    }
   ],
   "source": [
    "print(fileset['sample'][0])"
   ]
  },
  {
   "cell_type": "code",
   "execution_count": null,
   "id": "2e125307-1e81-46ca-80a7-8f22cdfdd887",
   "metadata": {},
   "outputs": [],
   "source": [
    "raw_data.fields"
   ]
  },
  {
   "cell_type": "code",
   "execution_count": 13,
   "id": "3b61a458-dd2e-46cc-b53c-6a0a62561586",
   "metadata": {},
   "outputs": [
    {
     "data": {
      "text/html": [
       "<pre>[[],\n",
       " [],\n",
       " [],\n",
       " [],\n",
       " [],\n",
       " [],\n",
       " [-161, -159, -158, -155, -235, -238, -234, ..., 211, 210, 211, 210, 210, 210],\n",
       " [],\n",
       " [148, 148, 148, 148, -88.3, -88.5, -88.8, ..., 101, 103, 101, 104, 103, 99.3],\n",
       " [92.2, 92.2, 92.2, 92.2, -106, -110, -93.4, ..., 521, 524, 524, 530, 530, 532],\n",
       " ...,\n",
       " [-3.33, -2.94, -2.55, -2.2, -1.84, -1.42, ..., -90.7, -90, -87, 55.9, 51],\n",
       " [],\n",
       " [],\n",
       " [149, 145, 144, 144, 146, -108, -122, ..., -11, 303, -322, -320, -319, -323],\n",
       " [-28.3, -28.7, -28.9, -28.9, -91.4, -89.3, ..., -53.5, -274, -115, -115, -140],\n",
       " [],\n",
       " [],\n",
       " [110, -82.2, -95.2, -82, -94.9, -81.7, ..., -188, -188, -187, -187, -189],\n",
       " [-140, -139, -139, -139, -138, -138, ..., -341, -339, -313, -325, -319, -331]]\n",
       "--------------------------------------------------------------------------------\n",
       "type: 4768 * var * float32</pre>"
      ],
      "text/plain": [
       "<Array [[], [], ..., [-140, -139, ..., -319, -331]] type='4768 * var * float32'>"
      ]
     },
     "execution_count": 13,
     "metadata": {},
     "output_type": "execute_result"
    }
   ],
   "source": [
    "raw_data.cscRechitsX\n",
    "# each row is an event\n",
    "# stuff in row is data, each number is the data for a hit caused by the event"
   ]
  },
  {
   "cell_type": "code",
   "execution_count": 14,
   "id": "56660dd9-3256-452e-b56e-ca1a468fbabb",
   "metadata": {},
   "outputs": [
    {
     "data": {
      "text/html": [
       "<pre>[-161,\n",
       " -159,\n",
       " -158,\n",
       " -155,\n",
       " -235,\n",
       " -238,\n",
       " -234,\n",
       " -235,\n",
       " -231,\n",
       " 125,\n",
       " ...,\n",
       " -348,\n",
       " -365,\n",
       " -347,\n",
       " -341,\n",
       " -339,\n",
       " -313,\n",
       " -325,\n",
       " -319,\n",
       " -331]\n",
       "----------------------\n",
       "type: 149388 * float32</pre>"
      ],
      "text/plain": [
       "<Array [-161, -159, -158, -155, ..., -325, -319, -331] type='149388 * float32'>"
      ]
     },
     "execution_count": 14,
     "metadata": {},
     "output_type": "execute_result"
    }
   ],
   "source": [
    "ak.flatten(raw_data.cscRechitsX)"
   ]
  },
  {
   "cell_type": "code",
   "execution_count": 17,
   "id": "793182f3-22b8-44cd-9686-5574146aa779",
   "metadata": {},
   "outputs": [
    {
     "data": {
      "text/html": [
       "<html>\n",
       "<div style=\"display:flex; align-items:center;\">\n",
       "<div style=\"width:290px;\">\n",
       "<svg xmlns=\"http://www.w3.org/2000/svg\" viewBox=\"-10 -105 270 120\">\n",
       "<line x1=\"-5\" y1=\"0\" x2=\"255\" y2=\"0\" style=\"fill:none;stroke-width:2;stroke:currentColor\"/>\n",
       "<text text-anchor=\"middle\" x=\"0\" y=\"15\" style=\"fill:currentColor;\">\n",
       "-800\n",
       "</text>\n",
       "<text text-anchor=\"middle\" x=\"250\" y=\"15\" style=\"fill:currentColor;\">\n",
       "800\n",
       "</text>\n",
       "<text text-anchor=\"middle\" x=\"125.0\" y=\"15\" style=\"fill:currentColor;\">\n",
       "x\n",
       "</text>\n",
       "<polyline points=\"  0,0   0,-0.191  25,-0.191  25,-2.45  50,-2.45  50,-8.65  75,-8.65  75,-40.5 100,-40.5 100,-100 125,-100 125,-94.9 150,-94.9 150,-37.6 175,-37.6 175,-7.01 200,-7.01 200,-2.75 225,-2.75 225,-0.242 250,-0.242 250,0\" style=\"fill:none; stroke:currentColor;\"/>\n",
       "</svg>\n",
       "</div>\n",
       "<div style=\"flex=grow:1;\">\n",
       "Regular(10, -800, 800, name='x')<br/>\n",
       "<hr style=\"margin-top:.2em; margin-bottom:.2em;\"/>\n",
       "Double() Σ=149388.0\n",
       "\n",
       "</div>\n",
       "</div>\n",
       "</html>"
      ],
      "text/plain": [
       "Hist(Regular(10, -800, 800, name='x'), storage=Double()) # Sum: 149388.0"
      ]
     },
     "execution_count": 17,
     "metadata": {},
     "output_type": "execute_result"
    }
   ],
   "source": [
    "h = hist.Hist.new.Regular(10, -800, 800, name=\"x\").Double()\n",
    "h.fill(ak.flatten(raw_data.cscRechitsX))"
   ]
  },
  {
   "cell_type": "code",
   "execution_count": 18,
   "id": "87533335-eb51-49b7-a883-5b454316b9fb",
   "metadata": {},
   "outputs": [
    {
     "data": {
      "text/plain": [
       "[StairsArtists(stairs=<matplotlib.patches.StepPatch object at 0x7f28371e6ad0>, errorbar=<ErrorbarContainer object of 3 artists>, legend_artist=<ErrorbarContainer object of 3 artists>)]"
      ]
     },
     "execution_count": 18,
     "metadata": {},
     "output_type": "execute_result"
    },
    {
     "data": {
      "image/png": "[encoded data removed]",
      "text/plain": [
       "<Figure size 640x480 with 1 Axes>"
      ]
     },
     "metadata": {},
     "output_type": "display_data"
    }
   ],
   "source": [
    "hep.histplot(h)"
   ]
  },
  {
   "cell_type": "code",
   "execution_count": null,
   "id": "2b39298c-c2c6-45e5-9cae-15026dbe7a5b",
   "metadata": {},
   "outputs": [],
   "source": []
  }
 ],
 "metadata": {
  "kernelspec": {
   "display_name": "Python 3 (ipykernel)",
   "language": "python",
   "name": "python3"
  },
  "language_info": {
   "codemirror_mode": {
    "name": "ipython",
    "version": 3
   },
   "file_extension": ".py",
   "mimetype": "text/x-python",
   "name": "python",
   "nbconvert_exporter": "python",
   "pygments_lexer": "ipython3",
   "version": "3.11.6"
  }
 },
 "nbformat": 4,
 "nbformat_minor": 5
}
